{
 "cells": [
  {
   "cell_type": "code",
   "execution_count": 3,
   "id": "b0460740",
   "metadata": {},
   "outputs": [],
   "source": [
    "import pandas as pd \n",
    "import os, fnmatch\n",
    "import sys\n",
    "\n",
    "# bts_df = pd.DataFrame()\n",
    "# listOfFolders= os.listdir('./raw_data')\n",
    "# print(listOfFolders)\n",
    "# pattern = \"*.csv\"\n",
    "# Check every folder in the list of folders\n",
    "\n"
   ]
  },
  {
   "cell_type": "code",
   "execution_count": 2,
   "id": "535b4277",
   "metadata": {},
   "outputs": [],
   "source": [
    "# for folder in listOfFolders:\n",
    "#     if not folder.startswith(\".\"): \n",
    "#         listOfFiles = os.listdir('./raw_data/{}'.format(folder))\n",
    "\n",
    "#         # Check everyfile in that folder\n",
    "#         for files in listOfFiles:\n",
    "#             try:\n",
    "#                 if fnmatch.fnmatch(files, pattern):\n",
    "#                     current_fn = \"./raw_data/{}/{}\".format(folder, files)\n",
    "#                     cur_df = pd.read_csv(current_fn)\n",
    "#                     bts_df = bts_df.append(cur_df)\n",
    "#                     print(\"processing: {}\".format(current_fn))\n",
    "#                     bts_df = bts_df.dropna(subset=['reading_time'])\n",
    "#                     bts_df[\"unix_timestamp\"] = pd.to_datetime(bts_df[\"reading_time\"]).astype(int)\n",
    "#                     mean_time = bts_df[\"unix_timestamp\"].mean()\n",
    "#                     min_time = bts_df[\"unix_timestamp\"].min()\n",
    "#                     bts_df[\"norm_time\"] = (bts_df[\"unix_timestamp\"]-mean_time)/(3600*1000000000)\n",
    "#                     bts_df = bts_df.sort_values(by=['norm_time'])\n",
    "#                     bts_df.drop([\"reading_time\"], axis='columns', inplace=True)\n",
    "\n",
    "#                     bts_df_grouped = bts_df.groupby([\"station_id\",\"parameter_id\"])\n",
    "#                     for key,item in bts_df_grouped:\n",
    "#                         if key[1] == 122 and key[0] == 1161114004:\n",
    "#                             sub_data = bts_df_grouped.get_group(key)\n",
    "# #                             mean_val = sub_data['value'].mean()\n",
    "# #                             sub_data['norm_value'] = sub_data['value']-mean_val\n",
    "# #                             max_val = sub_data['norm_value'].max()\n",
    "# #                             sub_data['norm_value'] = sub_data['norm_value']/max_val\n",
    "#                             sub_data.sort_values(by=['norm_time']).to_csv(\"./grouped_data/{}_{}_{}_.csv\".format(folder, key[0],key[1]), index=False)\n",
    "#                             print(\"Finish: {}\".format(key))\n",
    "#             except Exception as e:\n",
    "#                 print(e)"
   ]
  },
  {
   "cell_type": "code",
   "execution_count": 4,
   "id": "e9991c4a",
   "metadata": {},
   "outputs": [],
   "source": [
    "daily_prediction_result = pd.read_csv(\"Result/12_03_21.csv\")"
   ]
  }
 ],
 "metadata": {
  "kernelspec": {
   "display_name": "Python 3",
   "language": "python",
   "name": "python3"
  },
  "language_info": {
   "codemirror_mode": {
    "name": "ipython",
    "version": 3
   },
   "file_extension": ".py",
   "mimetype": "text/x-python",
   "name": "python",
   "nbconvert_exporter": "python",
   "pygments_lexer": "ipython3",
   "version": "3.8.8"
  }
 },
 "nbformat": 4,
 "nbformat_minor": 5
}
